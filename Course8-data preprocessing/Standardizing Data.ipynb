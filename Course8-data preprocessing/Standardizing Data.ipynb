{
 "cells": [
  {
   "cell_type": "code",
   "execution_count": 1,
   "metadata": {},
   "outputs": [],
   "source": [
    "import pandas as pd\n",
    "df = pd.read_csv(r'C:\\Users\\micky\\Desktop\\碩士\\109-2\\MahcineLearning\\Course8-data preprocessing\\wine_types.csv', engine = 'python')\n"
   ]
  },
  {
   "cell_type": "code",
   "execution_count": 3,
   "metadata": {},
   "outputs": [
    {
     "name": "stdout",
     "output_type": "stream",
     "text": [
      "0.7777777777777778\n"
     ]
    }
   ],
   "source": [
    "#type是我們的目標，可以看到這些欄位中某些的var特高，因此會影響到模型的表現\n",
    "df.var()\n",
    "X = df.drop('Type', axis = 1)\n",
    "y = df['Type']\n",
    "\n",
    "#先試試看沒有標準過的資料套入模型中表現如何\n",
    "from sklearn.model_selection import train_test_split\n",
    "from sklearn.neighbors import KNeighborsClassifier\n",
    "\n",
    "X_train, X_test, y_train, y_test = train_test_split(X, y, )\n",
    "knn = KNeighborsClassifier(n_neighbors = 3) #因為目標總共有三個類別\n",
    "knn.fit(X_train, y_train)\n",
    "print(knn.score(X_test,y_test))"
   ]
  },
  {
   "cell_type": "code",
   "execution_count": null,
   "metadata": {},
   "outputs": [],
   "source": [
    "#發現Proline的var特別高，於ˋ我們需要標準化來減少資料間的差異\n",
    "df.var()\n",
    "\n",
    "#這邊用log來normalize\n",
    "import numpy as np\n",
    "\n",
    "df['Proline_log'] = np.log(df['Proline'])\n",
    "\n",
    "#還有另外一個方法是用standardscaler\n",
    "from sklearn.preprocessing import StandardScaler\n",
    "ss = StandardScaler()\n",
    "wine_sub = df[['Alcalinity of ash','Magnesium','Proline']]\n",
    "wine_st = ss.fit_transform(wine_sub)"
   ]
  },
  {
   "cell_type": "code",
   "execution_count": 16,
   "metadata": {},
   "outputs": [
    {
     "name": "stdout",
     "output_type": "stream",
     "text": [
      "0.9111111111111111\n"
     ]
    }
   ],
   "source": [
    "import numpy as np\n",
    "\n",
    "df['Proline_log'] = np.log(df['Proline'])\n",
    "\n",
    "#再套入原本模型看看錶顯有沒有更好\n",
    "\n",
    "X = df.drop(['Type','Proline'], axis = 1)\n",
    "y = df['Type']\n",
    "\n",
    "X_train, X_test, y_train, y_test = train_test_split(X, y, )\n",
    "knn = KNeighborsClassifier(n_neighbors = 3) #因為目標總共有三個類別\n",
    "knn.fit(X_train, y_train)\n",
    "print(knn.score(X_test,y_test))\n",
    "#It looks better:)\n"
   ]
  },
  {
   "cell_type": "code",
   "execution_count": null,
   "metadata": {},
   "outputs": [],
   "source": []
  }
 ],
 "metadata": {
  "kernelspec": {
   "display_name": "Python 3",
   "language": "python",
   "name": "python3"
  },
  "language_info": {
   "codemirror_mode": {
    "name": "ipython",
    "version": 3
   },
   "file_extension": ".py",
   "mimetype": "text/x-python",
   "name": "python",
   "nbconvert_exporter": "python",
   "pygments_lexer": "ipython3",
   "version": "3.8.3"
  }
 },
 "nbformat": 4,
 "nbformat_minor": 4
}
