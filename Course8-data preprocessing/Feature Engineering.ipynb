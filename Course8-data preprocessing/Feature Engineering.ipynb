{
 "cells": [
  {
   "cell_type": "code",
   "execution_count": 1,
   "metadata": {},
   "outputs": [],
   "source": [
    "import pandas as pd\n",
    "import json"
   ]
  },
  {
   "cell_type": "code",
   "execution_count": 5,
   "metadata": {},
   "outputs": [],
   "source": [
    "with open(r'C:\\Users\\micky\\Desktop\\碩士\\109-2\\MahcineLearning\\Course8-data preprocessing\\hiking.json') as f:\n",
    "    data = json.load(f)\n",
    "df = pd.DataFrame(data)\n",
    "df2 = pd.read_csv(r'C:\\Users\\micky\\Desktop\\碩士\\109-2\\MahcineLearning\\Course8-data preprocessing\\volunteer_opportunities.csv')"
   ]
  },
  {
   "cell_type": "code",
   "execution_count": 3,
   "metadata": {},
   "outputs": [
    {
     "name": "stdout",
     "output_type": "stream",
     "text": [
      "<class 'pandas.core.frame.DataFrame'>\n",
      "RangeIndex: 33 entries, 0 to 32\n",
      "Data columns (total 11 columns):\n",
      " #   Column          Non-Null Count  Dtype \n",
      "---  ------          --------------  ----- \n",
      " 0   Prop_ID         33 non-null     object\n",
      " 1   Name            33 non-null     object\n",
      " 2   Location        33 non-null     object\n",
      " 3   Park_Name       33 non-null     object\n",
      " 4   Length          29 non-null     object\n",
      " 5   Difficulty      27 non-null     object\n",
      " 6   Other_Details   31 non-null     object\n",
      " 7   Accessible      33 non-null     object\n",
      " 8   Limited_Access  33 non-null     object\n",
      " 9   lat             0 non-null      object\n",
      " 10  lon             0 non-null      object\n",
      "dtypes: object(11)\n",
      "memory usage: 3.0+ KB\n"
     ]
    }
   ],
   "source": [
    "df.info()"
   ]
  },
  {
   "cell_type": "code",
   "execution_count": 4,
   "metadata": {},
   "outputs": [
    {
     "name": "stdout",
     "output_type": "stream",
     "text": [
      "  Accessible  Accessible_enc\n",
      "0          Y               1\n",
      "1          N               0\n",
      "2          N               0\n",
      "3          N               0\n",
      "4          N               0\n"
     ]
    }
   ],
   "source": [
    "#用scikit-learn的LabelEncoder來轉換類別型資料\n",
    "from sklearn.preprocessing import LabelEncoder\n",
    "enc = LabelEncoder()\n",
    "df['Accessible_enc'] = enc.fit_transform(df['Accessible'])\n",
    "\n",
    "# 比較一下前後差距\n",
    "print(df[['Accessible','Accessible_enc']].head())\n",
    "\n",
    "#用pandas.get_dummies也可做到類似的效果\n",
    "cate_enc = pd.get_dummies(df['Accessible'])"
   ]
  },
  {
   "cell_type": "code",
   "execution_count": 6,
   "metadata": {},
   "outputs": [
    {
     "name": "stdout",
     "output_type": "stream",
     "text": [
      "  start_date_converted  start_date_month\n",
      "0           2011-07-30                 7\n",
      "1           2011-02-01                 2\n",
      "2           2011-01-29                 1\n",
      "3           2011-02-14                 2\n",
      "4           2011-02-05                 2\n"
     ]
    }
   ],
   "source": [
    "#調出特定時間月份\n",
    "\n",
    "df2[\"start_date_converted\"] = pd.to_datetime(df2['start_date_date'])\n",
    "df2[\"start_date_month\"] = df2['start_date_converted'].apply(lambda row:row.month)\n",
    "print(df2[['start_date_converted', 'start_date_month']].head())\n",
    "#同樣的概念可以運用到day,year等"
   ]
  },
  {
   "cell_type": "code",
   "execution_count": 40,
   "metadata": {},
   "outputs": [
    {
     "name": "stdout",
     "output_type": "stream",
     "text": [
      "       Length  Length_num\n",
      "0   0.8 miles        0.80\n",
      "1    1.0 mile        1.00\n",
      "2  0.75 miles        0.75\n",
      "3   0.5 miles        0.50\n",
      "4   0.5 miles        0.50\n"
     ]
    }
   ],
   "source": [
    "#接下來是提取文字類的資料，以hiking資料及為例\n",
    "\n",
    "import re\n",
    "def return_text(text):\n",
    "    pattern = re.compile(r\"\\d+\\.\\d+\") \n",
    "    mile = re.match(pattern, text)\n",
    "    if mile is not None:\n",
    "        return float(mile.group(0))\n",
    "df['Length'] = df['Length'].apply(lambda x: str(x))\n",
    "df['Length_num'] = df['Length'].apply(lambda x: return_text(x))\n",
    "print(df[['Length','Length_num']].head())"
   ]
  },
  {
   "cell_type": "code",
   "execution_count": null,
   "metadata": {},
   "outputs": [],
   "source": []
  }
 ],
 "metadata": {
  "kernelspec": {
   "display_name": "Python 3",
   "language": "python",
   "name": "python3"
  },
  "language_info": {
   "codemirror_mode": {
    "name": "ipython",
    "version": 3
   },
   "file_extension": ".py",
   "mimetype": "text/x-python",
   "name": "python",
   "nbconvert_exporter": "python",
   "pygments_lexer": "ipython3",
   "version": "3.8.3"
  }
 },
 "nbformat": 4,
 "nbformat_minor": 4
}
