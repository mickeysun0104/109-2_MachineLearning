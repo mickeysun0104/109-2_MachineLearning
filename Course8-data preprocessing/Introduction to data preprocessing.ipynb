{
 "cells": [
  {
   "cell_type": "code",
   "execution_count": 1,
   "metadata": {},
   "outputs": [],
   "source": [
    "import pandas as pd\n",
    "df = pd.read_csv(r'C:\\Users\\micky\\Desktop\\碩士\\109-2\\MahcineLearning\\Course8-data preprocessing\\volunteer_opportunities.csv',\n",
    "                engine = 'python')\n"
   ]
  },
  {
   "cell_type": "code",
   "execution_count": null,
   "metadata": {},
   "outputs": [],
   "source": [
    "#先查看有空值的欄位\n",
    "print(df.isnull().sum())\n",
    "\n",
    "#最簡單的做法是直接將有空值的欄位捨去，但這個方法不太對\n",
    "df.dropna(axis = 1, thresh = 3)\n",
    "\n",
    "#或是反向思考，將不是空值得資料留下來\n",
    "df_sub = df[df['category_desc'].notnull()]\n",
    "\n",
    "#如果有資料類型不對可用astype來轉換\n",
    "df['event_time'] = df['event_time'].astype('float')\n",
    "\n",
    "#計算欄位中每種值的個數\n",
    "df['category_desc'].value_counts()\n"
   ]
  },
  {
   "cell_type": "code",
   "execution_count": 5,
   "metadata": {},
   "outputs": [
    {
     "name": "stdout",
     "output_type": "stream",
     "text": [
      "Strengthening Communities    230\n",
      "Helping Neighbors in Need     89\n",
      "Education                     69\n",
      "Health                        39\n",
      "Environment                   24\n",
      "Emergency Preparedness        11\n",
      "Name: category_desc, dtype: int64\n"
     ]
    }
   ],
   "source": [
    "#最後結合以上技巧，將資料分割並查看分割結果\n",
    "from sklearn.model_selection import train_test_split\n",
    "X = df_sub.drop('category_desc', axis = 1)\n",
    "y = df_sub[['category_desc']]\n",
    "\n",
    "X_train, X_test, y_train, y_test = train_test_split(X, y, stratify = y)\n",
    "\n",
    "print(y_train['category_desc'].value_counts())\n",
    "\n",
    "#由於有指定stratify = y所以分割後的戀資料仍然分布會跟原本的資料一樣"
   ]
  }
 ],
 "metadata": {
  "kernelspec": {
   "display_name": "Python 3",
   "language": "python",
   "name": "python3"
  },
  "language_info": {
   "codemirror_mode": {
    "name": "ipython",
    "version": 3
   },
   "file_extension": ".py",
   "mimetype": "text/x-python",
   "name": "python",
   "nbconvert_exporter": "python",
   "pygments_lexer": "ipython3",
   "version": "3.8.3"
  }
 },
 "nbformat": 4,
 "nbformat_minor": 4
}
